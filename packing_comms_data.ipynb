{
 "cells": [
  {
   "cell_type": "code",
   "execution_count": 31,
   "metadata": {
    "collapsed": false
   },
   "outputs": [
    {
     "name": "stderr",
     "output_type": "stream",
     "text": [
      "WARNING: replacing module LCMCore\n",
      "WARNING: replacing module comms\n"
     ]
    },
    {
     "data": {
      "text/plain": [
       "comms"
      ]
     },
     "execution_count": 31,
     "metadata": {},
     "output_type": "execute_result"
    }
   ],
   "source": [
    "import LCMCore\n",
    "reload(\"LCMCore\")\n",
    "module comms\n",
    "\n",
    "import LCMCore: encode, decode\n",
    "\n",
    "immutable CommsT\n",
    "    utime::Int64\n",
    "    format::String\n",
    "    format_version_major::Int32\n",
    "    format_version_minor::Int32\n",
    "    data::Vector{UInt8}\n",
    "end\n",
    "\n",
    "function encode(io::IO, comms::CommsT)\n",
    "    const signature = UInt8[211, 104, 224, 63, 51, 197, 104, 190]\n",
    "    write(io, signature)\n",
    "    write(io, hton(comms.utime))\n",
    "    write(io, hton(UInt32(length(comms.format) + 1)))\n",
    "    write(io, comms.format)\n",
    "    write(io, UInt8(0))\n",
    "    write(io, hton(comms.format_version_major))\n",
    "    write(io, hton(comms.format_version_minor))\n",
    "    write(io, hton(Int32(length(comms.data))))\n",
    "    write(io, hton.(comms.data))\n",
    "end\n",
    "\n",
    "function decode(io::IO, ::Type{CommsT})\n",
    "    signature = read(io, 8)\n",
    "    @assert signature == UInt8[211, 104, 224, 63, 51, 197, 104, 190]\n",
    "    utime = Int64(ntoh(read(io, Int64)))\n",
    "    formatlen = UInt32(ntoh(read(io, UInt32)))\n",
    "    format = String(read(io, formatlen - 1))\n",
    "    read(io, 1) # strip off null\n",
    "    ver_maj = Int32(ntoh(read(io, Int32)))\n",
    "    ver_min = Int32(ntoh(read(io, Int32)))\n",
    "    num_bytes = Int32(ntoh(read(io, Int32)))\n",
    "    data = String(read(io, UInt8, num_bytes))\n",
    "    CommsT(utime, format, ver_maj, ver_min, data)\n",
    "end\n",
    "\n",
    "end"
   ]
  },
  {
   "cell_type": "code",
   "execution_count": 32,
   "metadata": {
    "collapsed": false
   },
   "outputs": [
    {
     "data": {
      "text/plain": [
       "LCMCore.LCM(Ptr{Void} @0x00007fddb8235c90,RawFD(83))"
      ]
     },
     "execution_count": 32,
     "metadata": {},
     "output_type": "execute_result"
    }
   ],
   "source": [
    "lcm = LCMCore.LCM()"
   ]
  },
  {
   "cell_type": "code",
   "execution_count": 33,
   "metadata": {
    "collapsed": false
   },
   "outputs": [
    {
     "name": "stderr",
     "output_type": "stream",
     "text": [
      "WARNING: Method definition onmsg(Any, Any) in module Main at In[28]:2 overwritten at In[33]:2.\n"
     ]
    },
    {
     "data": {
      "text/plain": [
       "onmsg (generic function with 1 method)"
      ]
     },
     "execution_count": 33,
     "metadata": {},
     "output_type": "execute_result"
    }
   ],
   "source": [
    "function onmsg(channel, msg)\n",
    "    @show channel msg\n",
    "end"
   ]
  },
  {
   "cell_type": "code",
   "execution_count": 34,
   "metadata": {
    "collapsed": false
   },
   "outputs": [
    {
     "data": {
      "text/plain": [
       "Ptr{Void} @0x00007fddb8165190"
      ]
     },
     "execution_count": 34,
     "metadata": {},
     "output_type": "execute_result"
    }
   ],
   "source": [
    "LCMCore.subscribe(lcm, \"HELLO\", onmsg, comms.CommsT)"
   ]
  },
  {
   "cell_type": "code",
   "execution_count": 35,
   "metadata": {
    "collapsed": false
   },
   "outputs": [
    {
     "name": "stdout",
     "output_type": "stream",
     "text": [
      "info = LCMCore.SubscriptionInfo{comms.CommsT,#onmsg}(comms.CommsT,onmsg)\n",
      "channel = \"HELLO\"\n",
      "msg = comms.CommsT(12345,\"my format\",15,3,UInt8[0x7b,0x22,0x68,0x65,0x6c,0x6c,0x6f,0x22,0x3a,0x20,0x22,0x77,0x6f,0x72,0x6c,0x64,0x22,0x7d])\n"
     ]
    },
    {
     "data": {
      "text/plain": [
       "true"
      ]
     },
     "execution_count": 35,
     "metadata": {},
     "output_type": "execute_result"
    }
   ],
   "source": [
    "LCMCore.handle(lcm)"
   ]
  },
  {
   "cell_type": "code",
   "execution_count": null,
   "metadata": {
    "collapsed": true
   },
   "outputs": [],
   "source": []
  }
 ],
 "metadata": {
  "kernelspec": {
   "display_name": "Julia 0.5.0",
   "language": "julia",
   "name": "julia-0.5"
  },
  "language_info": {
   "file_extension": ".jl",
   "mimetype": "application/julia",
   "name": "julia",
   "version": "0.5.0"
  }
 },
 "nbformat": 4,
 "nbformat_minor": 1
}
