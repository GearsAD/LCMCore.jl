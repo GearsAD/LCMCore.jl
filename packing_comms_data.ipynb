{
 "cells": [
  {
   "cell_type": "code",
   "execution_count": 102,
   "metadata": {
    "collapsed": false
   },
   "outputs": [
    {
     "data": {
      "text/plain": [
       "Base.RefValue{String}(#undef)"
      ]
     },
     "execution_count": 102,
     "metadata": {},
     "output_type": "execute_result"
    }
   ],
   "source": [
    "const a = Ref{String}()"
   ]
  },
  {
   "cell_type": "code",
   "execution_count": 106,
   "metadata": {
    "collapsed": false
   },
   "outputs": [
    {
     "data": {
      "text/plain": [
       "\"hello\""
      ]
     },
     "execution_count": 106,
     "metadata": {},
     "output_type": "execute_result"
    }
   ],
   "source": [
    "a[] = \"hello\""
   ]
  },
  {
   "cell_type": "code",
   "execution_count": 89,
   "metadata": {
    "collapsed": false
   },
   "outputs": [
    {
     "name": "stderr",
     "output_type": "stream",
     "text": [
      "WARNING: replacing module LCMCore\n",
      "WARNING: replacing module comms\n"
     ]
    },
    {
     "data": {
      "text/plain": [
       "comms"
      ]
     },
     "execution_count": 89,
     "metadata": {},
     "output_type": "execute_result"
    }
   ],
   "source": [
    "import LCMCore\n",
    "reload(\"LCMCore\")\n",
    "module comms\n",
    "\n",
    "import LCMCore: encode, decode, fingerprint\n",
    "\n",
    "immutable CommsT\n",
    "    utime::Int64\n",
    "    format::String\n",
    "    format_version_major::Int32\n",
    "    format_version_minor::Int32\n",
    "    data::Vector{UInt8}\n",
    "end\n",
    "\n",
    "fingerprint(::Type{CommsT}) = UInt8[211, 104, 224, 63, 51, 197, 104, 190]\n",
    "\n",
    "function encode(comms::CommsT)\n",
    "    io = IOBuffer()\n",
    "    write(io, fingerprint(CommsT))\n",
    "    write(io, hton(comms.utime))\n",
    "    write(io, hton(UInt32(length(comms.format) + 1)))\n",
    "    write(io, comms.format)\n",
    "    write(io, UInt8(0))\n",
    "    write(io, hton(comms.format_version_major))\n",
    "    write(io, hton(comms.format_version_minor))\n",
    "    write(io, hton(Int32(length(comms.data))))\n",
    "    write(io, hton.(comms.data))\n",
    "    io.data\n",
    "end\n",
    "\n",
    "function decode(data::Vector{UInt8}, ::Type{CommsT})\n",
    "    io = IOBuffer(data)\n",
    "    msg_fingerprint = read(io, 8)\n",
    "    if msg_fingerprint != fingerprint(CommsT)\n",
    "        throw(FingerprintException(\"LCM message fingerprint did not match. This means that you are trying to decode the wrong message type, or a different version of the message type.\"))\n",
    "    end\n",
    "    utime = Int64(ntoh(read(io, Int64)))\n",
    "    formatlen = UInt32(ntoh(read(io, UInt32)))\n",
    "    format = String(read(io, formatlen - 1))\n",
    "    read(io, 1) # strip off null\n",
    "    ver_maj = Int32(ntoh(read(io, Int32)))\n",
    "    ver_min = Int32(ntoh(read(io, Int32)))\n",
    "    num_bytes = Int32(ntoh(read(io, Int32)))\n",
    "    data = String(read(io, UInt8, num_bytes))\n",
    "    CommsT(utime, format, ver_maj, ver_min, data)\n",
    "end\n",
    "\n",
    "end"
   ]
  },
  {
   "cell_type": "code",
   "execution_count": 90,
   "metadata": {
    "collapsed": false
   },
   "outputs": [
    {
     "data": {
      "text/plain": [
       "LCMCore.LCM(Ptr{Void} @0x00007fddb87bd4d0,RawFD(131))"
      ]
     },
     "execution_count": 90,
     "metadata": {},
     "output_type": "execute_result"
    }
   ],
   "source": [
    "lcm = LCMCore.LCM()"
   ]
  },
  {
   "cell_type": "code",
   "execution_count": 91,
   "metadata": {
    "collapsed": false
   },
   "outputs": [
    {
     "name": "stderr",
     "output_type": "stream",
     "text": [
      "WARNING: Method definition onmsg(Any, Any) in module Main at In[85]:2 overwritten at In[91]:2.\n"
     ]
    },
    {
     "data": {
      "text/plain": [
       "onmsg (generic function with 1 method)"
      ]
     },
     "execution_count": 91,
     "metadata": {},
     "output_type": "execute_result"
    }
   ],
   "source": [
    "function onmsg(channel, msg)\n",
    "    @show channel msg\n",
    "end"
   ]
  },
  {
   "cell_type": "code",
   "execution_count": 92,
   "metadata": {
    "collapsed": false
   },
   "outputs": [
    {
     "data": {
      "text/plain": [
       "Ptr{Void} @0x00007fddb60ed970"
      ]
     },
     "execution_count": 92,
     "metadata": {},
     "output_type": "execute_result"
    }
   ],
   "source": [
    "LCMCore.subscribe(lcm, \"HELLO\", onmsg, comms.CommsT)"
   ]
  },
  {
   "cell_type": "code",
   "execution_count": 101,
   "metadata": {
    "collapsed": false
   },
   "outputs": [
    {
     "data": {
      "text/plain": [
       "Task (runnable) @0x000000010d8a4250"
      ]
     },
     "execution_count": 101,
     "metadata": {},
     "output_type": "execute_result"
    },
    {
     "name": "stdout",
     "output_type": "stream",
     "text": [
      "channel = \"HELLO\"\n",
      "msg = comms.CommsT(12345,\"my format\",15,3,UInt8[0x7b,0x22,0x68,0x65,0x6c,0x6c,0x6f,0x22,0x3a,0x20,0x22,0x77,0x6f,0x72,0x6c,0x64,0x22,0x7d])\n"
     ]
    }
   ],
   "source": [
    "@async LCMCore.handle(lcm)"
   ]
  },
  {
   "cell_type": "code",
   "execution_count": 100,
   "metadata": {
    "collapsed": false
   },
   "outputs": [
    {
     "data": {
      "text/plain": [
       "true"
      ]
     },
     "execution_count": 100,
     "metadata": {},
     "output_type": "execute_result"
    },
    {
     "name": "stdout",
     "output_type": "stream",
     "text": [
      "channel = \"HELLO\"\n",
      "msg = comms.CommsT(1234567,\"format0\",11,23,UInt8[0x48,0x65,0x6c,0x6c,0x6f,0x20,0x77,0x6f,0x72,0x6c,0x64])\n"
     ]
    }
   ],
   "source": [
    "LCMCore.publish(lcm, \"HELLO\", comms.CommsT(1234567, \"format0\", 11, 23, \"Hello world\"))"
   ]
  },
  {
   "cell_type": "code",
   "execution_count": null,
   "metadata": {
    "collapsed": true
   },
   "outputs": [],
   "source": []
  }
 ],
 "metadata": {
  "kernelspec": {
   "display_name": "Julia 0.5.0",
   "language": "julia",
   "name": "julia-0.5"
  },
  "language_info": {
   "file_extension": ".jl",
   "mimetype": "application/julia",
   "name": "julia",
   "version": "0.5.0"
  }
 },
 "nbformat": 4,
 "nbformat_minor": 1
}
