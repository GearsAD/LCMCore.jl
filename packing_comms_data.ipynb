{
 "cells": [
  {
   "cell_type": "code",
   "execution_count": 16,
   "metadata": {
    "collapsed": false
   },
   "outputs": [
    {
     "name": "stderr",
     "output_type": "stream",
     "text": [
      "WARNING: replacing module lc\n"
     ]
    },
    {
     "data": {
      "text/plain": [
       "lc"
      ]
     },
     "execution_count": 16,
     "metadata": {},
     "output_type": "execute_result"
    }
   ],
   "source": [
    "module lc\n",
    "\n",
    "import Base: unsafe_convert, read, write, close\n",
    "using Base.Dates: Period, Millisecond\n",
    "\n",
    "const liblcm = \"$(ENV[\"HOME\"])/.julia/v0.5/PyLCM/deps/usr/lib/liblcm.dylib\"\n",
    "\n",
    "type LCM\n",
    "    pointer::Ptr{Void}\n",
    "    filedescriptor::RawFD\n",
    "\n",
    "    LCM() = begin\n",
    "        pointer = ccall((:lcm_create, liblcm), Ptr{Void}, (Ptr{UInt8},), \"\")\n",
    "        filedescriptor = RawFD(ccall((:lcm_get_fileno, liblcm), Cint, (Ptr{Void},), pointer))\n",
    "        lc = new(pointer, filedescriptor)\n",
    "        finalizer(lc, close)\n",
    "        lc\n",
    "    end\n",
    "end\n",
    "unsafe_convert(::Type{Ptr{Void}}, lc::LCM) = lc.pointer\n",
    "\n",
    "function close(lcm::LCM)\n",
    "    if lcm.pointer != C_NULL\n",
    "        ccall((:lcm_destroy, liblcm), Void, (Ptr{Void},), lcm)\n",
    "        lcm.pointer = C_NULL\n",
    "    end\n",
    "end\n",
    "\n",
    "function publish(lcm::LCM, channel::String, data::Vector{UInt8})\n",
    "    ccall((:lcm_publish, liblcm), Cint, (Ptr{Void}, Ptr{UInt8}, Ptr{UInt8}, Cuint), channel, data, length(data))\n",
    "end\n",
    "\n",
    "filedescriptor(lcm::LCM) = lcm.filedescriptor\n",
    "\n",
    "immutable CommsT\n",
    "    utime::Int64\n",
    "    format::String\n",
    "    format_version_major::Int32\n",
    "    format_version_minor::Int32\n",
    "    data::Vector{UInt8}\n",
    "end\n",
    "\n",
    "function write(io::IO, comms::CommsT)\n",
    "    const signature = UInt8[211, 104, 224, 63, 51, 197, 104, 190]\n",
    "    write(io, signature)\n",
    "    write(io, hton(comms.utime))\n",
    "    write(io, hton(UInt32(length(comms.format) + 1)))\n",
    "    write(io, comms.format)\n",
    "    write(io, UInt8(0))\n",
    "    write(io, hton(comms.format_version_major))\n",
    "    write(io, hton(comms.format_version_minor))\n",
    "    write(io, hton(Int32(length(comms.data))))\n",
    "    write(io, hton.(comms.data))\n",
    "end\n",
    "\n",
    "function read(io::IO, ::Type{CommsT})\n",
    "    signature = read(io, 8)\n",
    "    @assert signature == UInt8[211, 104, 224, 63, 51, 197, 104, 190]\n",
    "    utime = Int64(ntoh(read(io, Int64)))\n",
    "    formatlen = UInt32(ntoh(read(io, UInt32)))\n",
    "    format = String(read(io, formatlen - 1))\n",
    "    read(io, 1) # strip off null\n",
    "    ver_maj = Int32(ntoh(read(io, Int32)))\n",
    "    ver_min = Int32(ntoh(read(io, Int32)))\n",
    "    num_bytes = Int32(ntoh(read(io, Int32)))\n",
    "    data = String(read(io, UInt8, num_bytes))\n",
    "    CommsT(utime, format, ver_maj, ver_min, data)\n",
    "end\n",
    "\n",
    "\n",
    "immutable RecvBuf\n",
    "    data::Ptr{UInt8}\n",
    "    data_size::UInt32\n",
    "    recv_utime::Int64\n",
    "    lcm::Ptr{Void}\n",
    "end\n",
    "\n",
    "function onresponse(rbuf::RecvBuf, channelbytes::Ptr{UInt8}, data::Ptr{Void})\n",
    "    channel = unsafe_wrap(String, channelbytes)\n",
    "    @show channel\n",
    "    msgdata = unsafe_wrap(Vector{UInt8}, rbuf.data, rbuf.data_size)\n",
    "    msg = read(IOBuffer(msgdata), CommsT)\n",
    "    @show msg\n",
    "    return nothing::Void\n",
    "end\n",
    "\n",
    "function subscribe(lcm::LCM, channel::String, handler::Function)\n",
    "    ccall((:lcm_subscribe, liblcm), Ptr{Void}, \n",
    "    (Ptr{Void}, Ptr{UInt8}, Ptr{Void}, Ptr{Void}), \n",
    "    lcm,\n",
    "    channel,\n",
    "    cfunction(onresponse, Void, (Ref{RecvBuf}, Ptr{UInt8}, Ptr{Void})),\n",
    "    C_NULL)\n",
    "end\n",
    "\n",
    "chandle(lcm::LCM) = ccall((:lcm_handle, liblcm), Cint, (Ptr{Void},), lcm)\n",
    "    \n",
    "function handle(lcm::LCM)\n",
    "    fd = filedescriptor(lcm)\n",
    "    while true\n",
    "        event = poll_fd(fd, 10; readable=true)\n",
    "        if event.readable\n",
    "            chandle(lcm)\n",
    "            return true\n",
    "        end\n",
    "    end\n",
    "end\n",
    "\n",
    "function handle(lcm::LCM, timeout::Period)\n",
    "    timeout_ms = convert(Int, convert(Millisecond, timeout))\n",
    "    fd = filedescriptor(lcm)\n",
    "    event = poll_fd(fd, timeout_ms / 1000; readable=true)\n",
    "    if event.readable\n",
    "        chandle(lcm)\n",
    "        return true\n",
    "    else\n",
    "        return false\n",
    "    end\n",
    "end \n",
    "\n",
    "end"
   ]
  },
  {
   "cell_type": "code",
   "execution_count": 17,
   "metadata": {
    "collapsed": false
   },
   "outputs": [
    {
     "data": {
      "text/plain": [
       "lc.LCM(Ptr{Void} @0x00007fa064666b00,RawFD(68))"
      ]
     },
     "execution_count": 17,
     "metadata": {},
     "output_type": "execute_result"
    }
   ],
   "source": [
    "lcm = lc.LCM()"
   ]
  },
  {
   "cell_type": "code",
   "execution_count": 18,
   "metadata": {
    "collapsed": false
   },
   "outputs": [
    {
     "data": {
      "text/plain": [
       "Ptr{Void} @0x00007fa0640db880"
      ]
     },
     "execution_count": 18,
     "metadata": {},
     "output_type": "execute_result"
    }
   ],
   "source": [
    "lc.subscribe(lcm, \"HELLO\", lc.onresponse)"
   ]
  },
  {
   "cell_type": "code",
   "execution_count": 20,
   "metadata": {
    "collapsed": false
   },
   "outputs": [
    {
     "data": {
      "text/plain": [
       "Task (runnable) @0x00000001127fdf90"
      ]
     },
     "execution_count": 20,
     "metadata": {},
     "output_type": "execute_result"
    },
    {
     "name": "stdout",
     "output_type": "stream",
     "text": [
      "channel = \"HELLO\"\n",
      "msg = lc.CommsT(12345,\"my format\",15,3,UInt8[0x7b,0x22,0x68,0x65,0x6c,0x6c,0x6f,0x22,0x3a,0x20,0x22,0x77,0x6f,0x72,0x6c,0x64,0x22,0x7d])\n",
      "channel = \"HELLO\"\n",
      "msg = lc.CommsT(12345,\"my format\",15,3,UInt8[0x7b,0x22,0x68,0x65,0x6c,0x6c,0x6f,0x22,0x3a,0x20,0x22,0x77,0x6f,0x72,0x6c,0x64,0x22,0x7d])\n",
      "channel = \"HELLO\"\n",
      "msg = lc.CommsT(12345,\"my format\",15,3,UInt8[0x7b,0x22,0x68,0x65,0x6c,0x6c,0x6f,0x22,0x3a,0x20,0x22,0x77,0x6f,0x72,0x6c,0x64,0x22,0x7d])\n",
      "channel = \"HELLO\"\n",
      "msg = lc.CommsT(12345,\"my format\",15,3,UInt8[0x7b,0x22,0x68,0x65,0x6c,0x6c,0x6f,0x22,0x3a,0x20,0x22,0x77,0x6f,0x72,0x6c,0x64,0x22,0x7d])\n"
     ]
    }
   ],
   "source": [
    "@async while true\n",
    "    lc.handle(lcm)\n",
    "end"
   ]
  },
  {
   "cell_type": "code",
   "execution_count": 21,
   "metadata": {
    "collapsed": false
   },
   "outputs": [
    {
     "data": {
      "text/plain": [
       "2"
      ]
     },
     "execution_count": 21,
     "metadata": {},
     "output_type": "execute_result"
    },
    {
     "name": "stdout",
     "output_type": "stream",
     "text": [
      "channel = \"HELLO\"\n",
      "msg = lc.CommsT(12345,\"my format\",15,3,UInt8[0x7b,0x22,0x68,0x65,0x6c,0x6c,0x6f,0x22,0x3a,0x20,0x22,0x77,0x6f,0x72,0x6c,0x64,0x22,0x7d])\n",
      "channel = \"HELLO\"\n",
      "msg = lc.CommsT(12345,\"my format\",15,3,UInt8[0x7b,0x22,0x68,0x65,0x6c,0x6c,0x6f,0x22,0x3a,0x20,0x22,0x77,0x6f,0x72,0x6c,0x64,0x22,0x7d])\n"
     ]
    }
   ],
   "source": [
    "1 + 1"
   ]
  },
  {
   "cell_type": "code",
   "execution_count": 4,
   "metadata": {
    "collapsed": false
   },
   "outputs": [
    {
     "data": {
      "text/plain": [
       "Task (runnable) @0x0000000112329d50"
      ]
     },
     "execution_count": 4,
     "metadata": {},
     "output_type": "execute_result"
    },
    {
     "name": "stdout",
     "output_type": "stream",
     "text": [
      "channel = \"HELLO\"\n",
      "msg = lc.CommsT(12345,\"my format\",15,3,UInt8[0x7b,0x22,0x68,0x65,0x6c,0x6c,0x6f,0x22,0x3a,0x20,0x22,0x77,0x6f,0x72,0x6c,0x64,0x22,0x7d])\n",
      "channel = \"HELLO\"\n",
      "msg = lc.CommsT(12345,\"my format\",15,3,UInt8[0x7b,0x22,0x68,0x65,0x6c,0x6c,0x6f,0x22,0x3a,0x20,0x22,0x77,0x6f,0x72,0x6c,0x64,0x22,0x7d])\n"
     ]
    }
   ],
   "source": [
    "lc.handleloop(lcm)"
   ]
  },
  {
   "cell_type": "code",
   "execution_count": 5,
   "metadata": {
    "collapsed": false
   },
   "outputs": [
    {
     "data": {
      "text/plain": [
       "4"
      ]
     },
     "execution_count": 5,
     "metadata": {},
     "output_type": "execute_result"
    },
    {
     "name": "stdout",
     "output_type": "stream",
     "text": [
      "channel = \"HELLO\"\n",
      "msg = lc.CommsT(12345,\"my format\",15,3,UInt8[0x7b,0x22,0x68,0x65,0x6c,0x6c,0x6f,0x22,0x3a,0x20,0x22,0x77,0x6f,0x72,0x6c,0x64,0x22,0x7d])\n",
      "channel = \"HELLO\"\n",
      "msg = lc.CommsT(12345,\"my format\",15,3,UInt8[0x7b,0x22,0x68,0x65,0x6c,0x6c,0x6f,0x22,0x3a,0x20,0x22,0x77,0x6f,0x72,0x6c,0x64,0x22,0x7d])\n"
     ]
    }
   ],
   "source": [
    "2 + 2"
   ]
  },
  {
   "cell_type": "code",
   "execution_count": 108,
   "metadata": {
    "collapsed": false
   },
   "outputs": [
    {
     "name": "stdout",
     "output_type": "stream",
     "text": [
      "channel = \"HELLO\"\n",
      "msg = lc.CommsT(12345,\"my format\",15,3,UInt8[0x7b,0x22,0x68,0x65,0x6c,0x6c,0x6f,0x22,0x3a,0x20,0x22,0x77,0x6f,0x72,0x6c,0x64,0x22,0x7d])\n"
     ]
    },
    {
     "data": {
      "text/plain": [
       "0"
      ]
     },
     "execution_count": 108,
     "metadata": {},
     "output_type": "execute_result"
    }
   ],
   "source": [
    "lc.handle(lcm)"
   ]
  },
  {
   "cell_type": "code",
   "execution_count": 109,
   "metadata": {
    "collapsed": false
   },
   "outputs": [
    {
     "data": {
      "text/plain": [
       "RawFD(176)"
      ]
     },
     "execution_count": 109,
     "metadata": {},
     "output_type": "execute_result"
    }
   ],
   "source": [
    "fd = lc.filedescriptor(lcm)"
   ]
  },
  {
   "cell_type": "code",
   "execution_count": 111,
   "metadata": {
    "collapsed": false
   },
   "outputs": [
    {
     "name": "stdout",
     "output_type": "stream",
     "text": [
      "Base.Filesystem.FDEvent\n",
      "  readable: Bool true\n",
      "  writable: Bool false\n",
      "  timedout: Bool false\n"
     ]
    }
   ],
   "source": [
    "event = poll_fd(fd, 1.0; readable=true)\n",
    "dump(event)"
   ]
  },
  {
   "cell_type": "code",
   "execution_count": 6,
   "metadata": {
    "collapsed": false
   },
   "outputs": [
    {
     "data": {
      "text/plain": [
       "Base.Filesystem.FDEvent"
      ]
     },
     "execution_count": 6,
     "metadata": {},
     "output_type": "execute_result"
    }
   ],
   "source": [
    "typeof(event)"
   ]
  },
  {
   "cell_type": "code",
   "execution_count": null,
   "metadata": {
    "collapsed": true
   },
   "outputs": [],
   "source": []
  },
  {
   "cell_type": "code",
   "execution_count": 40,
   "metadata": {
    "collapsed": false
   },
   "outputs": [
    {
     "data": {
      "text/plain": [
       "IOBuffer(data=UInt8[...], readable=true, writable=true, seekable=true, append=false, size=0, maxsize=Inf, ptr=1, mark=-1)"
      ]
     },
     "execution_count": 40,
     "metadata": {},
     "output_type": "execute_result"
    }
   ],
   "source": [
    "b = IOBuffer()"
   ]
  },
  {
   "cell_type": "code",
   "execution_count": 41,
   "metadata": {
    "collapsed": false
   },
   "outputs": [
    {
     "data": {
      "text/plain": [
       "lc.CommsT(123456,\"my format\",15,3,UInt8[0x7b,0x22,0x68,0x65,0x6c,0x6c,0x6f,0x22,0x3a,0x20,0x22,0x77,0x6f,0x72,0x6c,0x64,0x22,0x7d])"
      ]
     },
     "execution_count": 41,
     "metadata": {},
     "output_type": "execute_result"
    }
   ],
   "source": [
    "data = \"{\\\"hello\\\": \\\"world\\\"}\"\n",
    "msg = lc.CommsT(123456, \"my format\", 15, 3, data)"
   ]
  },
  {
   "cell_type": "code",
   "execution_count": 42,
   "metadata": {
    "collapsed": false
   },
   "outputs": [
    {
     "data": {
      "text/plain": [
       "0x0000000000000012"
      ]
     },
     "execution_count": 42,
     "metadata": {},
     "output_type": "execute_result"
    }
   ],
   "source": [
    "write(b, msg)"
   ]
  },
  {
   "cell_type": "code",
   "execution_count": 43,
   "metadata": {
    "collapsed": false
   },
   "outputs": [
    {
     "name": "stdout",
     "output_type": "stream",
     "text": [
      "[211,104,224,63,51,197,104,190,0,0,0,0,0,1,226,64,0,0,0,10,109,121,32,102,111,114,109,97,116,0,0,0,0,15,0,0,0,3,0,0,0,18,123,34,104,101,108,108,111,34,58,32,34,119,111,114,108,100,34,125]\n"
     ]
    }
   ],
   "source": [
    "seekstart(b)\n",
    "encoded = Int.(readbytes(b))\n",
    "println(encoded)"
   ]
  },
  {
   "cell_type": "code",
   "execution_count": 44,
   "metadata": {
    "collapsed": false
   },
   "outputs": [
    {
     "data": {
      "text/plain": [
       "true"
      ]
     },
     "execution_count": 44,
     "metadata": {},
     "output_type": "execute_result"
    }
   ],
   "source": [
    "encoded == expected"
   ]
  },
  {
   "cell_type": "code",
   "execution_count": 37,
   "metadata": {
    "collapsed": false
   },
   "outputs": [
    {
     "data": {
      "text/plain": [
       "60-element Array{Int64,1}:\n",
       " 211\n",
       " 104\n",
       " 224\n",
       "  63\n",
       "  51\n",
       " 197\n",
       " 104\n",
       " 190\n",
       "   0\n",
       "   0\n",
       "   0\n",
       "   0\n",
       "   0\n",
       "   ⋮\n",
       " 111\n",
       "  34\n",
       "  58\n",
       "  32\n",
       "  34\n",
       " 119\n",
       " 111\n",
       " 114\n",
       " 108\n",
       " 100\n",
       "  34\n",
       " 125"
      ]
     },
     "execution_count": 37,
     "metadata": {},
     "output_type": "execute_result"
    }
   ],
   "source": [
    "expected = [211,\n",
    " 104,\n",
    " 224,\n",
    " 63,\n",
    " 51,\n",
    " 197,\n",
    " 104,\n",
    " 190,\n",
    " 0,\n",
    " 0,\n",
    " 0,\n",
    " 0,\n",
    " 0,\n",
    " 1,\n",
    " 226,\n",
    " 64,\n",
    " 0,\n",
    " 0,\n",
    " 0,\n",
    " 10,\n",
    " 109,\n",
    " 121,\n",
    " 32,\n",
    " 102,\n",
    " 111,\n",
    " 114,\n",
    " 109,\n",
    " 97,\n",
    " 116,\n",
    " 0,\n",
    " 0,\n",
    " 0,\n",
    " 0,\n",
    " 15,\n",
    " 0,\n",
    " 0,\n",
    " 0,\n",
    " 3,\n",
    " 0,\n",
    " 0,\n",
    " 0,\n",
    " 18,\n",
    " 123,\n",
    " 34,\n",
    " 104,\n",
    " 101,\n",
    " 108,\n",
    " 108,\n",
    " 111,\n",
    " 34,\n",
    " 58,\n",
    " 32,\n",
    " 34,\n",
    " 119,\n",
    " 111,\n",
    " 114,\n",
    " 108,\n",
    " 100,\n",
    " 34,\n",
    " 125]\n"
   ]
  },
  {
   "cell_type": "code",
   "execution_count": 16,
   "metadata": {
    "collapsed": false
   },
   "outputs": [
    {
     "data": {
      "text/plain": [
       "72057594037927936"
      ]
     },
     "execution_count": 16,
     "metadata": {},
     "output_type": "execute_result"
    }
   ],
   "source": [
    "hton(Int64(1))"
   ]
  },
  {
   "cell_type": "code",
   "execution_count": null,
   "metadata": {
    "collapsed": true
   },
   "outputs": [],
   "source": []
  },
  {
   "cell_type": "code",
   "execution_count": 3,
   "metadata": {
    "collapsed": false
   },
   "outputs": [
    {
     "data": {
      "text/plain": [
       "r\"\\xd3h\\xe0?3\\xc5h\\xbe\""
      ]
     },
     "execution_count": 3,
     "metadata": {},
     "output_type": "execute_result"
    }
   ],
   "source": [
    "sig = r\"\\xd3h\\xe0?3\\xc5h\\xbe\""
   ]
  },
  {
   "cell_type": "code",
   "execution_count": null,
   "metadata": {
    "collapsed": true
   },
   "outputs": [],
   "source": []
  }
 ],
 "metadata": {
  "kernelspec": {
   "display_name": "Julia 0.5.0",
   "language": "julia",
   "name": "julia-0.5"
  },
  "language_info": {
   "file_extension": ".jl",
   "mimetype": "application/julia",
   "name": "julia",
   "version": "0.5.0"
  }
 },
 "nbformat": 4,
 "nbformat_minor": 1
}
