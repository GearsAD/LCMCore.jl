{
 "cells": [
  {
   "cell_type": "code",
   "execution_count": 39,
   "metadata": {
    "collapsed": false
   },
   "outputs": [
    {
     "name": "stderr",
     "output_type": "stream",
     "text": [
      "WARNING: replacing module lc\n"
     ]
    },
    {
     "data": {
      "text/plain": [
       "lc"
      ]
     },
     "execution_count": 39,
     "metadata": {},
     "output_type": "execute_result"
    }
   ],
   "source": [
    "module lc\n",
    "\n",
    "import Base: unsafe_convert, write\n",
    "\n",
    "const liblcm = \"/home/rdeits/.julia/v0.5/PyLCM/deps/usr/lib/liblcm.so\"\n",
    "\n",
    "type LCM\n",
    "    pointer::Ptr{Void}\n",
    "\n",
    "    LCM() = begin\n",
    "        lc = new(ccall((:lcm_create, liblcm), Ptr{Void}, (Ptr{UInt8},), \"\"))\n",
    "        finalizer(lc, close)\n",
    "        lc\n",
    "    end\n",
    "end\n",
    "unsafe_convert(::Type{Ptr{Void}}, lc::LCM) = lc.pointer\n",
    "\n",
    "function close(lcm::LCM)\n",
    "\tif lcm.pointer != C_NULL\n",
    "\t    ccall((:lcm_destroy, liblcm), Void, (Ptr{Void},), lcm)\n",
    "\t\tlcm.pointer = C_NULL\n",
    "\tend\n",
    "end\n",
    "\n",
    "function publish(lcm::LCM, channel::String, data::Vector{UInt8})\n",
    "    ccall((:lcm_publish, liblcm), Cint, (Ptr{LCM}, Ptr{UInt8}, Ptr{UInt8}, Cuint), channel, data, length(data))\n",
    "end\n",
    "\n",
    "\n",
    "immutable CommsT\n",
    "    utime::Int64\n",
    "    format::String\n",
    "    format_version_major::Int32\n",
    "    format_version_minor::Int32\n",
    "    data::Vector{UInt8}\n",
    "end\n",
    "\n",
    "function write(io::IO, comms::CommsT)\n",
    "    const signature = UInt8[211, 104, 224, 63, 51, 197, 104, 190]\n",
    "    write(io, signature)\n",
    "    write(io, hton(comms.utime))\n",
    "    write(io, hton(UInt32(length(comms.format) + 1)))\n",
    "    write(io, comms.format)\n",
    "    write(io, UInt8(0))\n",
    "    write(io, hton(comms.format_version_major))\n",
    "    write(io, hton(comms.format_version_minor))\n",
    "    write(io, hton(Int32(length(comms.data))))\n",
    "    write(io, hton.(comms.data))\n",
    "end\n",
    "\n",
    "end"
   ]
  },
  {
   "cell_type": "code",
   "execution_count": 40,
   "metadata": {
    "collapsed": false
   },
   "outputs": [
    {
     "data": {
      "text/plain": [
       "IOBuffer(data=UInt8[...], readable=true, writable=true, seekable=true, append=false, size=0, maxsize=Inf, ptr=1, mark=-1)"
      ]
     },
     "execution_count": 40,
     "metadata": {},
     "output_type": "execute_result"
    }
   ],
   "source": [
    "b = IOBuffer()"
   ]
  },
  {
   "cell_type": "code",
   "execution_count": 41,
   "metadata": {
    "collapsed": false
   },
   "outputs": [
    {
     "data": {
      "text/plain": [
       "lc.CommsT(123456,\"my format\",15,3,UInt8[0x7b,0x22,0x68,0x65,0x6c,0x6c,0x6f,0x22,0x3a,0x20,0x22,0x77,0x6f,0x72,0x6c,0x64,0x22,0x7d])"
      ]
     },
     "execution_count": 41,
     "metadata": {},
     "output_type": "execute_result"
    }
   ],
   "source": [
    "data = \"{\\\"hello\\\": \\\"world\\\"}\"\n",
    "msg = lc.CommsT(123456, \"my format\", 15, 3, data)"
   ]
  },
  {
   "cell_type": "code",
   "execution_count": 42,
   "metadata": {
    "collapsed": false
   },
   "outputs": [
    {
     "data": {
      "text/plain": [
       "0x0000000000000012"
      ]
     },
     "execution_count": 42,
     "metadata": {},
     "output_type": "execute_result"
    }
   ],
   "source": [
    "write(b, msg)"
   ]
  },
  {
   "cell_type": "code",
   "execution_count": 43,
   "metadata": {
    "collapsed": false
   },
   "outputs": [
    {
     "name": "stdout",
     "output_type": "stream",
     "text": [
      "[211,104,224,63,51,197,104,190,0,0,0,0,0,1,226,64,0,0,0,10,109,121,32,102,111,114,109,97,116,0,0,0,0,15,0,0,0,3,0,0,0,18,123,34,104,101,108,108,111,34,58,32,34,119,111,114,108,100,34,125]\n"
     ]
    }
   ],
   "source": [
    "seekstart(b)\n",
    "encoded = Int.(readbytes(b))\n",
    "println(encoded)"
   ]
  },
  {
   "cell_type": "code",
   "execution_count": 44,
   "metadata": {
    "collapsed": false
   },
   "outputs": [
    {
     "data": {
      "text/plain": [
       "true"
      ]
     },
     "execution_count": 44,
     "metadata": {},
     "output_type": "execute_result"
    }
   ],
   "source": [
    "encoded == expected"
   ]
  },
  {
   "cell_type": "code",
   "execution_count": 37,
   "metadata": {
    "collapsed": false
   },
   "outputs": [
    {
     "data": {
      "text/plain": [
       "60-element Array{Int64,1}:\n",
       " 211\n",
       " 104\n",
       " 224\n",
       "  63\n",
       "  51\n",
       " 197\n",
       " 104\n",
       " 190\n",
       "   0\n",
       "   0\n",
       "   0\n",
       "   0\n",
       "   0\n",
       "   ⋮\n",
       " 111\n",
       "  34\n",
       "  58\n",
       "  32\n",
       "  34\n",
       " 119\n",
       " 111\n",
       " 114\n",
       " 108\n",
       " 100\n",
       "  34\n",
       " 125"
      ]
     },
     "execution_count": 37,
     "metadata": {},
     "output_type": "execute_result"
    }
   ],
   "source": [
    "expected = [211,\n",
    " 104,\n",
    " 224,\n",
    " 63,\n",
    " 51,\n",
    " 197,\n",
    " 104,\n",
    " 190,\n",
    " 0,\n",
    " 0,\n",
    " 0,\n",
    " 0,\n",
    " 0,\n",
    " 1,\n",
    " 226,\n",
    " 64,\n",
    " 0,\n",
    " 0,\n",
    " 0,\n",
    " 10,\n",
    " 109,\n",
    " 121,\n",
    " 32,\n",
    " 102,\n",
    " 111,\n",
    " 114,\n",
    " 109,\n",
    " 97,\n",
    " 116,\n",
    " 0,\n",
    " 0,\n",
    " 0,\n",
    " 0,\n",
    " 15,\n",
    " 0,\n",
    " 0,\n",
    " 0,\n",
    " 3,\n",
    " 0,\n",
    " 0,\n",
    " 0,\n",
    " 18,\n",
    " 123,\n",
    " 34,\n",
    " 104,\n",
    " 101,\n",
    " 108,\n",
    " 108,\n",
    " 111,\n",
    " 34,\n",
    " 58,\n",
    " 32,\n",
    " 34,\n",
    " 119,\n",
    " 111,\n",
    " 114,\n",
    " 108,\n",
    " 100,\n",
    " 34,\n",
    " 125]\n"
   ]
  },
  {
   "cell_type": "code",
   "execution_count": 16,
   "metadata": {
    "collapsed": false
   },
   "outputs": [
    {
     "data": {
      "text/plain": [
       "72057594037927936"
      ]
     },
     "execution_count": 16,
     "metadata": {},
     "output_type": "execute_result"
    }
   ],
   "source": [
    "hton(Int64(1))"
   ]
  },
  {
   "cell_type": "code",
   "execution_count": null,
   "metadata": {
    "collapsed": true
   },
   "outputs": [],
   "source": []
  },
  {
   "cell_type": "code",
   "execution_count": 3,
   "metadata": {
    "collapsed": false
   },
   "outputs": [
    {
     "data": {
      "text/plain": [
       "r\"\\xd3h\\xe0?3\\xc5h\\xbe\""
      ]
     },
     "execution_count": 3,
     "metadata": {},
     "output_type": "execute_result"
    }
   ],
   "source": [
    "sig = r\"\\xd3h\\xe0?3\\xc5h\\xbe\""
   ]
  },
  {
   "cell_type": "code",
   "execution_count": null,
   "metadata": {
    "collapsed": true
   },
   "outputs": [],
   "source": []
  }
 ],
 "metadata": {
  "kernelspec": {
   "display_name": "Julia 0.5.0",
   "language": "julia",
   "name": "julia-0.5"
  },
  "language_info": {
   "file_extension": ".jl",
   "mimetype": "application/julia",
   "name": "julia",
   "version": "0.5.0"
  }
 },
 "nbformat": 4,
 "nbformat_minor": 1
}
