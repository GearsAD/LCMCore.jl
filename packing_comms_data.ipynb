{
 "cells": [
  {
   "cell_type": "code",
   "execution_count": 66,
   "metadata": {
    "collapsed": false
   },
   "outputs": [
    {
     "name": "stderr",
     "output_type": "stream",
     "text": [
      "WARNING: replacing module LCMCore\n",
      "WARNING: replacing module comms\n"
     ]
    },
    {
     "data": {
      "text/plain": [
       "comms"
      ]
     },
     "execution_count": 66,
     "metadata": {},
     "output_type": "execute_result"
    }
   ],
   "source": [
    "import LCMCore\n",
    "reload(\"LCMCore\")\n",
    "module comms\n",
    "\n",
    "import LCMCore: encode, decode, fingerprint\n",
    "\n",
    "immutable CommsT\n",
    "    utime::Int64\n",
    "    format::String\n",
    "    format_version_major::Int32\n",
    "    format_version_minor::Int32\n",
    "    data::Vector{UInt8}\n",
    "end\n",
    "\n",
    "fingerprint(::Type{CommsT}) = UInt8[211, 104, 224, 63, 51, 197, 104, 190]\n",
    "\n",
    "function encode(io::IO, comms::CommsT)\n",
    "    write(io, hton(comms.utime))\n",
    "    write(io, hton(UInt32(length(comms.format) + 1)))\n",
    "    write(io, comms.format)\n",
    "    write(io, UInt8(0))\n",
    "    write(io, hton(comms.format_version_major))\n",
    "    write(io, hton(comms.format_version_minor))\n",
    "    write(io, hton(Int32(length(comms.data))))\n",
    "    write(io, hton.(comms.data))\n",
    "end\n",
    "\n",
    "function decode(io::IO, ::Type{CommsT})\n",
    "    utime = Int64(ntoh(read(io, Int64)))\n",
    "    formatlen = UInt32(ntoh(read(io, UInt32)))\n",
    "    format = String(read(io, formatlen - 1))\n",
    "    read(io, 1) # strip off null\n",
    "    ver_maj = Int32(ntoh(read(io, Int32)))\n",
    "    ver_min = Int32(ntoh(read(io, Int32)))\n",
    "    num_bytes = Int32(ntoh(read(io, Int32)))\n",
    "    data = String(read(io, UInt8, num_bytes))\n",
    "    CommsT(utime, format, ver_maj, ver_min, data)\n",
    "end\n",
    "\n",
    "end"
   ]
  },
  {
   "cell_type": "code",
   "execution_count": 67,
   "metadata": {
    "collapsed": false
   },
   "outputs": [
    {
     "data": {
      "text/plain": [
       "LCMCore.LCM(Ptr{Void} @0x00007fddb8346ac0,RawFD(113))"
      ]
     },
     "execution_count": 67,
     "metadata": {},
     "output_type": "execute_result"
    }
   ],
   "source": [
    "lcm = LCMCore.LCM()"
   ]
  },
  {
   "cell_type": "code",
   "execution_count": 68,
   "metadata": {
    "collapsed": false
   },
   "outputs": [
    {
     "name": "stderr",
     "output_type": "stream",
     "text": [
      "WARNING: Method definition onmsg(Any, Any) in module Main at In[62]:2 overwritten at In[68]:2.\n"
     ]
    },
    {
     "data": {
      "text/plain": [
       "onmsg (generic function with 1 method)"
      ]
     },
     "execution_count": 68,
     "metadata": {},
     "output_type": "execute_result"
    }
   ],
   "source": [
    "function onmsg(channel, msg)\n",
    "    @show channel msg\n",
    "end"
   ]
  },
  {
   "cell_type": "code",
   "execution_count": 69,
   "metadata": {
    "collapsed": false
   },
   "outputs": [
    {
     "data": {
      "text/plain": [
       "Ptr{Void} @0x00007fddb8777b80"
      ]
     },
     "execution_count": 69,
     "metadata": {},
     "output_type": "execute_result"
    }
   ],
   "source": [
    "LCMCore.subscribe(lcm, \"HELLO\", onmsg, comms.CommsT)"
   ]
  },
  {
   "cell_type": "code",
   "execution_count": 70,
   "metadata": {
    "collapsed": false
   },
   "outputs": [
    {
     "data": {
      "text/plain": [
       "Task (runnable) @0x000000010d9221d0"
      ]
     },
     "execution_count": 70,
     "metadata": {},
     "output_type": "execute_result"
    }
   ],
   "source": [
    "@async LCMCore.handle(lcm)"
   ]
  },
  {
   "cell_type": "code",
   "execution_count": 72,
   "metadata": {
    "collapsed": false
   },
   "outputs": [
    {
     "data": {
      "text/plain": [
       "0"
      ]
     },
     "execution_count": 72,
     "metadata": {},
     "output_type": "execute_result"
    }
   ],
   "source": [
    "LCMCore.publish(lcm, \"HELLO\", comms.CommsT(1234567, \"format0\", 11, 23, \"Hello world\"))"
   ]
  },
  {
   "cell_type": "code",
   "execution_count": null,
   "metadata": {
    "collapsed": true
   },
   "outputs": [],
   "source": []
  }
 ],
 "metadata": {
  "kernelspec": {
   "display_name": "Julia 0.5.0",
   "language": "julia",
   "name": "julia-0.5"
  },
  "language_info": {
   "file_extension": ".jl",
   "mimetype": "application/julia",
   "name": "julia",
   "version": "0.5.0"
  }
 },
 "nbformat": 4,
 "nbformat_minor": 1
}
